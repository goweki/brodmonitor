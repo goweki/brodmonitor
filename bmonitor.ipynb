{
 "cells": [
  {
   "attachments": {},
   "cell_type": "markdown",
   "metadata": {},
   "source": [
    "Convert audio file to .wav format if necessary. Change the filename parameter of the _AudioSegment.from_mp3()_ segment to march the filename of your input audio file\n"
   ]
  },
  {
   "cell_type": "code",
   "execution_count": null,
   "metadata": {},
   "outputs": [],
   "source": [
    "from pydub import AudioSegment\n",
    "\n",
    "# load the mp3 file as an AudioSegment object\n",
    "audio = AudioSegment.from_mp3(\"Sanchez - Mama (African Pride).mp3\")\n",
    "\n",
    "# export the audio as a wav file\n",
    "audio.export(\"audio.wav\", format=\"wav\")"
   ]
  },
  {
   "attachments": {},
   "cell_type": "markdown",
   "metadata": {},
   "source": [
    "## Generate a fingerprints for each of the audio assets.\n",
    "\n",
    "#### Requirements:\n",
    "\n",
    "- Database, where Dejavu can store fingerprints. The code below creates a new MySQL db: <br>\n",
    "    `mysql -u root -p`\n",
    "\n",
    "- PyDejavu: matplotlib, mysql-connector-python, numpy, psycopg2, PyAudio, pydub, scipy\n",
    "\n",
    "#### Usage\n",
    "- Edit the database configurations for your storage instance\n",
    "- Watermark a single file using: `dejavu.fingerprint_file()`\n",
    "- Watermark a multiple files using: `dejavu.fingerprint_directory()`\n"
   ]
  },
  {
   "cell_type": "code",
   "execution_count": null,
   "metadata": {},
   "outputs": [],
   "source": [
    "import json\n",
    "from dejavu import Dejavu\n",
    "\n",
    "config = {\n",
    "    \"database\": {\n",
    "        \"host\": \"localhost\",\n",
    "        \"user\": \"dejavu\",\n",
    "        \"password\": \"dejavu9466\",\n",
    "        \"database\": \"dejavu\",\n",
    "    },\n",
    "    \"database_type\": \"mysql\",\n",
    "    \"fingerprint_limit\": 20,\n",
    "}\n",
    "djv = Dejavu(config)\n",
    "\n",
    "# any subsequent calls to fingerprint_file or fingerprint_directory \n",
    "# will fingerprint and add those songs to the database ehose connection\n",
    "# has been defined in the config dictionary above. \n",
    "# It's meant to simulate a system where as new songs are released, \n",
    "# they are fingerprinted and added to the database seemlessly without \n",
    "# stopping the system.\n",
    "\n",
    "### If multiple files\n",
    "### The fingerprint_directory method three arguments:\n",
    "# input directory to look for audio files\n",
    "# audio extensions to look for in the input directory\n",
    "# number of processes (optional)--------------------\n",
    "# \n",
    "# djv.fingerprint_directory(\"/audio_assets\", [\".wav\"], 3)\n",
    "\n",
    "# generate fingerprint from a single audio file\n",
    "song = djv.fingerprint_file(\"audio.wav\")"
   ]
  }
 ],
 "metadata": {
  "kernelspec": {
   "display_name": "Python 3",
   "language": "python",
   "name": "python3"
  },
  "language_info": {
   "codemirror_mode": {
    "name": "ipython",
    "version": 3
   },
   "file_extension": ".py",
   "mimetype": "text/x-python",
   "name": "python",
   "nbconvert_exporter": "python",
   "pygments_lexer": "ipython3",
   "version": "3.8.10"
  },
  "orig_nbformat": 4
 },
 "nbformat": 4,
 "nbformat_minor": 2
}

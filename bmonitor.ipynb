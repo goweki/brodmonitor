{
 "cells": [
  {
   "attachments": {},
   "cell_type": "markdown",
   "metadata": {},
   "source": [
    "Convert audio file to .wav format if necessary. Change the filename parameter of the _AudioSegment.from_mp3()_ segment to march the filename of your input audio file\n"
   ]
  },
  {
   "cell_type": "code",
   "execution_count": 26,
   "metadata": {},
   "outputs": [
    {
     "data": {
      "text/plain": [
       "<_io.BufferedRandom name='audio.wav'>"
      ]
     },
     "execution_count": 26,
     "metadata": {},
     "output_type": "execute_result"
    }
   ],
   "source": [
    "from pydub import AudioSegment\n",
    "\n",
    "# load the mp3 file as an AudioSegment object\n",
    "audio = AudioSegment.from_mp3(\"Sanchez - Mama (African Pride).mp3\")\n",
    "\n",
    "# export the audio as a wav file\n",
    "audio.export(\"audio.wav\", format=\"wav\")"
   ]
  },
  {
   "attachments": {},
   "cell_type": "markdown",
   "metadata": {},
   "source": [
    "Generate a fingerprint from .wav audio segment.\n",
    "\n",
    "Requirements:\n",
    "\n",
    "- MySQL database, where Dejavu can store fingerprints. Run this code to create a new MySQL db:\n",
    "  <strong>mysql -u root -p</strong>\n",
    "\n",
    "Edit the database configurations for your storage instance\n"
   ]
  },
  {
   "cell_type": "code",
   "execution_count": null,
   "metadata": {},
   "outputs": [],
   "source": [
    "import numpy\n",
    "print(numpy.__version__)\n",
    "print(numpy.__path__)"
   ]
  },
  {
   "cell_type": "code",
   "execution_count": null,
   "metadata": {},
   "outputs": [],
   "source": [
    "import json\n",
    "from dejavu import Dejavu\n",
    "\n",
    "### mysql  Ver 8.0.32-0ubuntu0.20.04.2 for Linux on x86_64 ((Ubuntu))\n",
    "config = {\n",
    "    \"database\": {\n",
    "        \"host\": \"localhost\",\n",
    "        \"user\": \"dejavu\",\n",
    "        \"password\": \"dejavu9466\",\n",
    "        \"database\": \"dejavu\",\n",
    "    },\n",
    "    \"database_type\": \"mysql\",\n",
    "    \"fingerprint_limit\": 20,\n",
    "}\n",
    "djv = Dejavu(config)\n",
    "\n",
    "### If multiple files\n",
    "# djv.fingerprint_directory(\"./\", [\".wav\"], 3)\n",
    "\n",
    "# generate fingerprint from audio file\n",
    "song = djv.fingerprint_file(\"audio.wav\")\n",
    "\n",
    "if song is not None and \"hashes\" in song:\n",
    "    # serialize the fingerprint to a JSON string\n",
    "    fingerprint_str = json.dumps(song[\"hashes\"])\n",
    "else:\n",
    "    # Handle the case where song is None\n",
    "    print(\"ERROR:....Song is empty\")\n",
    "\n",
    "# write the fingerprint to a new line in the text file\n",
    "with open(\"signatures.txt\", \"a\") as f:\n",
    "    f.write(fingerprint_str + \"\\n\")"
   ]
  }
 ],
 "metadata": {
  "kernelspec": {
   "display_name": "Python 3",
   "language": "python",
   "name": "python3"
  },
  "language_info": {
   "codemirror_mode": {
    "name": "ipython",
    "version": 3
   },
   "file_extension": ".py",
   "mimetype": "text/x-python",
   "name": "python",
   "nbconvert_exporter": "python",
   "pygments_lexer": "ipython3",
   "version": "3.8.10"
  },
  "orig_nbformat": 4
 },
 "nbformat": 4,
 "nbformat_minor": 2
}
